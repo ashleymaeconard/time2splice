{
 "cells": [
  {
   "cell_type": "code",
   "execution_count": 3,
   "metadata": {},
   "outputs": [],
   "source": [
    "from scipy.stats import chi2_contingency\n",
    "import numpy as np"
   ]
  },
  {
   "cell_type": "code",
   "execution_count": 7,
   "metadata": {},
   "outputs": [
    {
     "data": {
      "text/plain": [
       "(390.558542691742,\n",
       " 6.255788561520213e-87,\n",
       " 1,\n",
       " array([[9796.30393932, 1094.69606068],\n",
       "        [8584.69606068,  959.30393932]]))"
      ]
     },
     "execution_count": 7,
     "metadata": {},
     "output_type": "execute_result"
    }
   ],
   "source": [
    "# Females 0-2 hours\n",
    "obs = np.array([[9372, 1519], [9009, 535]])\n",
    "chi2_contingency(obs)"
   ]
  },
  {
   "cell_type": "code",
   "execution_count": 8,
   "metadata": {},
   "outputs": [
    {
     "data": {
      "text/plain": [
       "(0.5094680579008262,\n",
       " 0.4753692204476654,\n",
       " 1,\n",
       " array([[10332.98389422,  1997.01610578],\n",
       "        [10012.01610578,  1934.98389422]]))"
      ]
     },
     "execution_count": 8,
     "metadata": {},
     "output_type": "execute_result"
    }
   ],
   "source": [
    "# Females 2-4 hours\n",
    "obs = np.array([[10312, 2018], [10033, 1914]])\n",
    "chi2_contingency(obs)"
   ]
  },
  {
   "cell_type": "code",
   "execution_count": 9,
   "metadata": {},
   "outputs": [
    {
     "data": {
      "text/plain": [
       "(89.4066115569934,\n",
       " 3.2146047110560275e-21,\n",
       " 1,\n",
       " array([[ 9086.89250671,  1544.10749329],\n",
       "        [10339.10749329,  1756.89250671]]))"
      ]
     },
     "execution_count": 9,
     "metadata": {},
     "output_type": "execute_result"
    }
   ],
   "source": [
    "# Males 0-2 hours\n",
    "obs = np.array([[9338, 1293], [10088, 2008]])\n",
    "chi2_contingency(obs)"
   ]
  },
  {
   "cell_type": "code",
   "execution_count": 10,
   "metadata": {},
   "outputs": [
    {
     "data": {
      "text/plain": [
       "(622.6812371938724,\n",
       " 1.9525395618717078e-137,\n",
       " 1,\n",
       " array([[ 8132.74644457,   917.25355543],\n",
       "        [10318.25355543,  1163.74644457]]))"
      ]
     },
     "execution_count": 10,
     "metadata": {},
     "output_type": "execute_result"
    }
   ],
   "source": [
    "# Males 2-4 hours\n",
    "obs = np.array([[8669, 381], [9782, 1700]])\n",
    "chi2_contingency(obs)"
   ]
  },
  {
   "cell_type": "code",
   "execution_count": null,
   "metadata": {},
   "outputs": [],
   "source": []
  }
 ],
 "metadata": {
  "kernelspec": {
   "display_name": "Python 3",
   "language": "python",
   "name": "python3"
  },
  "language_info": {
   "codemirror_mode": {
    "name": "ipython",
    "version": 3
   },
   "file_extension": ".py",
   "mimetype": "text/x-python",
   "name": "python",
   "nbconvert_exporter": "python",
   "pygments_lexer": "ipython3",
   "version": "3.7.6"
  }
 },
 "nbformat": 4,
 "nbformat_minor": 4
}
