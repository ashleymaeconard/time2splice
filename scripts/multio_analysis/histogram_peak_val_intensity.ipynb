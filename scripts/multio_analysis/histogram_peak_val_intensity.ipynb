{
 "cells": [
  {
   "cell_type": "code",
   "execution_count": 1,
   "metadata": {},
   "outputs": [],
   "source": [
    "import pandas as pd"
   ]
  },
  {
   "cell_type": "code",
   "execution_count": 26,
   "metadata": {},
   "outputs": [],
   "source": [
    "DIR = \"/data/compbio/aconard/cutnrun_n_chip/embryo_pj/cutnrun/mle_results/chipseeker/ss/\"\n",
    "df_ss = pd.read_csv(DIR+\"mle_2-4_clampRNAi_m_SS_peakAnno.5.cols.csv\", sep=\"\\t\", names=[\"chr\",\"start\",\"end\",\"peak_name\",\"peak_val\"])"
   ]
  },
  {
   "cell_type": "code",
   "execution_count": 27,
   "metadata": {},
   "outputs": [
    {
     "data": {
      "text/html": [
       "<div>\n",
       "<style scoped>\n",
       "    .dataframe tbody tr th:only-of-type {\n",
       "        vertical-align: middle;\n",
       "    }\n",
       "\n",
       "    .dataframe tbody tr th {\n",
       "        vertical-align: top;\n",
       "    }\n",
       "\n",
       "    .dataframe thead th {\n",
       "        text-align: right;\n",
       "    }\n",
       "</style>\n",
       "<table border=\"1\" class=\"dataframe\">\n",
       "  <thead>\n",
       "    <tr style=\"text-align: right;\">\n",
       "      <th></th>\n",
       "      <th>chr</th>\n",
       "      <th>start</th>\n",
       "      <th>end</th>\n",
       "      <th>peak_name</th>\n",
       "      <th>peak_val</th>\n",
       "    </tr>\n",
       "  </thead>\n",
       "  <tbody>\n",
       "    <tr>\n",
       "      <th>0</th>\n",
       "      <td>chr2L</td>\n",
       "      <td>476323</td>\n",
       "      <td>476522</td>\n",
       "      <td>out.sorted.dedup.bam_peak_331</td>\n",
       "      <td>24</td>\n",
       "    </tr>\n",
       "    <tr>\n",
       "      <th>1</th>\n",
       "      <td>chr2L</td>\n",
       "      <td>486907</td>\n",
       "      <td>487274</td>\n",
       "      <td>out.sorted.dedup.bam_peak_334</td>\n",
       "      <td>175</td>\n",
       "    </tr>\n",
       "    <tr>\n",
       "      <th>2</th>\n",
       "      <td>chr2L</td>\n",
       "      <td>490573</td>\n",
       "      <td>490948</td>\n",
       "      <td>out.sorted.dedup.bam_peak_335</td>\n",
       "      <td>74</td>\n",
       "    </tr>\n",
       "    <tr>\n",
       "      <th>3</th>\n",
       "      <td>chr2L</td>\n",
       "      <td>514892</td>\n",
       "      <td>515091</td>\n",
       "      <td>out.sorted.dedup.bam_peak_341</td>\n",
       "      <td>24</td>\n",
       "    </tr>\n",
       "    <tr>\n",
       "      <th>4</th>\n",
       "      <td>chr2L</td>\n",
       "      <td>516506</td>\n",
       "      <td>516807</td>\n",
       "      <td>out.sorted.dedup.bam_peak_342</td>\n",
       "      <td>50</td>\n",
       "    </tr>\n",
       "    <tr>\n",
       "      <th>...</th>\n",
       "      <td>...</td>\n",
       "      <td>...</td>\n",
       "      <td>...</td>\n",
       "      <td>...</td>\n",
       "      <td>...</td>\n",
       "    </tr>\n",
       "    <tr>\n",
       "      <th>96</th>\n",
       "      <td>chrX</td>\n",
       "      <td>13084493</td>\n",
       "      <td>13084692</td>\n",
       "      <td>out.sorted.dedup.bam_peak_14649</td>\n",
       "      <td>32</td>\n",
       "    </tr>\n",
       "    <tr>\n",
       "      <th>97</th>\n",
       "      <td>chrX</td>\n",
       "      <td>13089723</td>\n",
       "      <td>13090172</td>\n",
       "      <td>out.sorted.dedup.bam_peak_14650</td>\n",
       "      <td>50</td>\n",
       "    </tr>\n",
       "    <tr>\n",
       "      <th>98</th>\n",
       "      <td>chrX</td>\n",
       "      <td>14246251</td>\n",
       "      <td>14246632</td>\n",
       "      <td>out.sorted.dedup.bam_peak_14907</td>\n",
       "      <td>60</td>\n",
       "    </tr>\n",
       "    <tr>\n",
       "      <th>99</th>\n",
       "      <td>chrX</td>\n",
       "      <td>19259672</td>\n",
       "      <td>19260119</td>\n",
       "      <td>out.sorted.dedup.bam_peak_15755</td>\n",
       "      <td>39</td>\n",
       "    </tr>\n",
       "    <tr>\n",
       "      <th>100</th>\n",
       "      <td>chrX</td>\n",
       "      <td>21599007</td>\n",
       "      <td>21599230</td>\n",
       "      <td>out.sorted.dedup.bam_peak_16110</td>\n",
       "      <td>32</td>\n",
       "    </tr>\n",
       "  </tbody>\n",
       "</table>\n",
       "<p>101 rows × 5 columns</p>\n",
       "</div>"
      ],
      "text/plain": [
       "       chr     start       end                        peak_name  peak_val\n",
       "0    chr2L    476323    476522    out.sorted.dedup.bam_peak_331        24\n",
       "1    chr2L    486907    487274    out.sorted.dedup.bam_peak_334       175\n",
       "2    chr2L    490573    490948    out.sorted.dedup.bam_peak_335        74\n",
       "3    chr2L    514892    515091    out.sorted.dedup.bam_peak_341        24\n",
       "4    chr2L    516506    516807    out.sorted.dedup.bam_peak_342        50\n",
       "..     ...       ...       ...                              ...       ...\n",
       "96    chrX  13084493  13084692  out.sorted.dedup.bam_peak_14649        32\n",
       "97    chrX  13089723  13090172  out.sorted.dedup.bam_peak_14650        50\n",
       "98    chrX  14246251  14246632  out.sorted.dedup.bam_peak_14907        60\n",
       "99    chrX  19259672  19260119  out.sorted.dedup.bam_peak_15755        39\n",
       "100   chrX  21599007  21599230  out.sorted.dedup.bam_peak_16110        32\n",
       "\n",
       "[101 rows x 5 columns]"
      ]
     },
     "execution_count": 27,
     "metadata": {},
     "output_type": "execute_result"
    }
   ],
   "source": [
    "df_ss"
   ]
  },
  {
   "cell_type": "code",
   "execution_count": 28,
   "metadata": {},
   "outputs": [
    {
     "data": {
      "text/plain": [
       "<matplotlib.axes._subplots.AxesSubplot at 0x7f8eb07d7590>"
      ]
     },
     "execution_count": 28,
     "metadata": {},
     "output_type": "execute_result"
    },
    {
     "data": {
      "image/png": "[encoded data removed]",
      "text/plain": [
       "<Figure size 432x288 with 1 Axes>"
      ]
     },
     "metadata": {
      "needs_background": "light"
     },
     "output_type": "display_data"
    }
   ],
   "source": [
    "df_ss[\"peak_val\"].plot.hist(bins=len(df_ss), ylim=(0,20))"
   ]
  },
  {
   "cell_type": "code",
   "execution_count": 20,
   "metadata": {},
   "outputs": [
    {
     "data": {
      "text/html": [
       "<div>\n",
       "<style scoped>\n",
       "    .dataframe tbody tr th:only-of-type {\n",
       "        vertical-align: middle;\n",
       "    }\n",
       "\n",
       "    .dataframe tbody tr th {\n",
       "        vertical-align: top;\n",
       "    }\n",
       "\n",
       "    .dataframe thead th {\n",
       "        text-align: right;\n",
       "    }\n",
       "</style>\n",
       "<table border=\"1\" class=\"dataframe\">\n",
       "  <thead>\n",
       "    <tr style=\"text-align: right;\">\n",
       "      <th></th>\n",
       "      <th>chr</th>\n",
       "      <th>start</th>\n",
       "      <th>end</th>\n",
       "      <th>peak_name</th>\n",
       "      <th>peak_val</th>\n",
       "    </tr>\n",
       "  </thead>\n",
       "  <tbody>\n",
       "    <tr>\n",
       "      <th>119</th>\n",
       "      <td>chr2R</td>\n",
       "      <td>16507259</td>\n",
       "      <td>16507641</td>\n",
       "      <td>out.15_32.sorted.dedup.bam_peak_11861</td>\n",
       "      <td>24063</td>\n",
       "    </tr>\n",
       "    <tr>\n",
       "      <th>120</th>\n",
       "      <td>chr2R</td>\n",
       "      <td>16512366</td>\n",
       "      <td>16512744</td>\n",
       "      <td>out.15_32.sorted.dedup.bam_peak_11862</td>\n",
       "      <td>18819</td>\n",
       "    </tr>\n",
       "    <tr>\n",
       "      <th>276</th>\n",
       "      <td>chrX</td>\n",
       "      <td>9657716</td>\n",
       "      <td>9658096</td>\n",
       "      <td>out.15_32.sorted.dedup.bam_peak_36194</td>\n",
       "      <td>15225</td>\n",
       "    </tr>\n",
       "    <tr>\n",
       "      <th>346</th>\n",
       "      <td>chrX</td>\n",
       "      <td>19766737</td>\n",
       "      <td>19767294</td>\n",
       "      <td>out.15_32.sorted.dedup.bam_peak_40113</td>\n",
       "      <td>11888</td>\n",
       "    </tr>\n",
       "  </tbody>\n",
       "</table>\n",
       "</div>"
      ],
      "text/plain": [
       "       chr     start       end                              peak_name  \\\n",
       "119  chr2R  16507259  16507641  out.15_32.sorted.dedup.bam_peak_11861   \n",
       "120  chr2R  16512366  16512744  out.15_32.sorted.dedup.bam_peak_11862   \n",
       "276   chrX   9657716   9658096  out.15_32.sorted.dedup.bam_peak_36194   \n",
       "346   chrX  19766737  19767294  out.15_32.sorted.dedup.bam_peak_40113   \n",
       "\n",
       "     peak_val  \n",
       "119     24063  \n",
       "120     18819  \n",
       "276     15225  \n",
       "346     11888  "
      ]
     },
     "execution_count": 20,
     "metadata": {},
     "output_type": "execute_result"
    }
   ],
   "source": [
    "df_ss_filt = df_ss[df_ss[\"peak_val\"] >= 5000]"
   ]
  },
  {
   "cell_type": "code",
   "execution_count": null,
   "metadata": {},
   "outputs": [],
   "source": [
    "df_ss_filt.to_csv(DIR+\"/\")"
   ]
  }
 ],
 "metadata": {
  "kernelspec": {
   "display_name": "Python 3",
   "language": "python",
   "name": "python3"
  },
  "language_info": {
   "codemirror_mode": {
    "name": "ipython",
    "version": 3
   },
   "file_extension": ".py",
   "mimetype": "text/x-python",
   "name": "python",
   "nbconvert_exporter": "python",
   "pygments_lexer": "ipython3",
   "version": "3.7.6"
  }
 },
 "nbformat": 4,
 "nbformat_minor": 4
}
